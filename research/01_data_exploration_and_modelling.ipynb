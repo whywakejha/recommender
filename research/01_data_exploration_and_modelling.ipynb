{
 "cells": [
  {
   "cell_type": "code",
   "execution_count": 7,
   "metadata": {},
   "outputs": [],
   "source": [
    "import pandas as pd\n",
    "import matplotlib.pyplot as plt"
   ]
  },
  {
   "cell_type": "code",
   "execution_count": 8,
   "metadata": {},
   "outputs": [],
   "source": [
    "customerdf = pd.read_csv(\"CustomerInfo.csv\")"
   ]
  },
  {
   "cell_type": "code",
   "execution_count": 9,
   "metadata": {},
   "outputs": [
    {
     "name": "stdout",
     "output_type": "stream",
     "text": [
      "<class 'pandas.core.frame.DataFrame'>\n",
      "RangeIndex: 10000 entries, 0 to 9999\n",
      "Data columns (total 9 columns):\n",
      " #   Column            Non-Null Count  Dtype  \n",
      "---  ------            --------------  -----  \n",
      " 0   CustomerID        10000 non-null  int64  \n",
      " 1   Age               10000 non-null  int64  \n",
      " 2   Gender            10000 non-null  int64  \n",
      " 3   Income            10000 non-null  float64\n",
      " 4   Location          10000 non-null  int64  \n",
      " 5   HighestEducation  10000 non-null  int64  \n",
      " 6   CreditScore       10000 non-null  int64  \n",
      " 7   Profession        10000 non-null  int64  \n",
      " 8   DisposableIncome  10000 non-null  float64\n",
      "dtypes: float64(2), int64(7)\n",
      "memory usage: 703.3 KB\n"
     ]
    }
   ],
   "source": [
    "customerdf.info()"
   ]
  },
  {
   "cell_type": "code",
   "execution_count": 10,
   "metadata": {},
   "outputs": [],
   "source": [
    "productdf = pd.read_csv('ProductInfo.csv')"
   ]
  },
  {
   "cell_type": "code",
   "execution_count": 11,
   "metadata": {},
   "outputs": [
    {
     "data": {
      "text/html": [
       "<div>\n",
       "<style scoped>\n",
       "    .dataframe tbody tr th:only-of-type {\n",
       "        vertical-align: middle;\n",
       "    }\n",
       "\n",
       "    .dataframe tbody tr th {\n",
       "        vertical-align: top;\n",
       "    }\n",
       "\n",
       "    .dataframe thead th {\n",
       "        text-align: right;\n",
       "    }\n",
       "</style>\n",
       "<table border=\"1\" class=\"dataframe\">\n",
       "  <thead>\n",
       "    <tr style=\"text-align: right;\">\n",
       "      <th></th>\n",
       "      <th>CustomerID</th>\n",
       "      <th>PersonalLoan_Owned</th>\n",
       "      <th>PersonalLoan_Amount</th>\n",
       "      <th>HomeLoan_Owned</th>\n",
       "      <th>HomeLoan_Amount</th>\n",
       "      <th>VehicleLoan_Owned</th>\n",
       "      <th>VehicleLoan_Amount</th>\n",
       "      <th>EducationLoan_Owned</th>\n",
       "      <th>EducationLoan_Amount</th>\n",
       "      <th>Insurance_Owned</th>\n",
       "      <th>Insurance_Amount</th>\n",
       "      <th>VehicleInsurance_Owned</th>\n",
       "      <th>VehicleInsurance_Amount</th>\n",
       "      <th>MutualFund_Owned</th>\n",
       "      <th>MutualFund_Amount</th>\n",
       "      <th>FixedDeposit_Owned</th>\n",
       "      <th>FixedDeposit_Amount</th>\n",
       "      <th>LastProductPurchased</th>\n",
       "    </tr>\n",
       "  </thead>\n",
       "  <tbody>\n",
       "    <tr>\n",
       "      <th>0</th>\n",
       "      <td>1</td>\n",
       "      <td>0</td>\n",
       "      <td>0.0</td>\n",
       "      <td>0</td>\n",
       "      <td>0.0</td>\n",
       "      <td>1</td>\n",
       "      <td>129300.0</td>\n",
       "      <td>0</td>\n",
       "      <td>0.0</td>\n",
       "      <td>0</td>\n",
       "      <td>0.0</td>\n",
       "      <td>0</td>\n",
       "      <td>0.0</td>\n",
       "      <td>0</td>\n",
       "      <td>0.0</td>\n",
       "      <td>1</td>\n",
       "      <td>149200.0</td>\n",
       "      <td>VehicleLoan</td>\n",
       "    </tr>\n",
       "    <tr>\n",
       "      <th>1</th>\n",
       "      <td>2</td>\n",
       "      <td>0</td>\n",
       "      <td>0.0</td>\n",
       "      <td>0</td>\n",
       "      <td>0.0</td>\n",
       "      <td>0</td>\n",
       "      <td>0.0</td>\n",
       "      <td>1</td>\n",
       "      <td>189000.0</td>\n",
       "      <td>0</td>\n",
       "      <td>0.0</td>\n",
       "      <td>0</td>\n",
       "      <td>0.0</td>\n",
       "      <td>0</td>\n",
       "      <td>0.0</td>\n",
       "      <td>1</td>\n",
       "      <td>230800.0</td>\n",
       "      <td>EducationLoan</td>\n",
       "    </tr>\n",
       "    <tr>\n",
       "      <th>2</th>\n",
       "      <td>3</td>\n",
       "      <td>0</td>\n",
       "      <td>0.0</td>\n",
       "      <td>0</td>\n",
       "      <td>0.0</td>\n",
       "      <td>1</td>\n",
       "      <td>1676000.0</td>\n",
       "      <td>0</td>\n",
       "      <td>0.0</td>\n",
       "      <td>0</td>\n",
       "      <td>0.0</td>\n",
       "      <td>0</td>\n",
       "      <td>0.0</td>\n",
       "      <td>0</td>\n",
       "      <td>0.0</td>\n",
       "      <td>1</td>\n",
       "      <td>182100.0</td>\n",
       "      <td>VehicleLoan</td>\n",
       "    </tr>\n",
       "    <tr>\n",
       "      <th>3</th>\n",
       "      <td>4</td>\n",
       "      <td>0</td>\n",
       "      <td>0.0</td>\n",
       "      <td>0</td>\n",
       "      <td>0.0</td>\n",
       "      <td>1</td>\n",
       "      <td>332000.0</td>\n",
       "      <td>0</td>\n",
       "      <td>0.0</td>\n",
       "      <td>0</td>\n",
       "      <td>0.0</td>\n",
       "      <td>1</td>\n",
       "      <td>35500.0</td>\n",
       "      <td>0</td>\n",
       "      <td>0.0</td>\n",
       "      <td>0</td>\n",
       "      <td>0.0</td>\n",
       "      <td>VehicleInsurance</td>\n",
       "    </tr>\n",
       "    <tr>\n",
       "      <th>4</th>\n",
       "      <td>5</td>\n",
       "      <td>0</td>\n",
       "      <td>0.0</td>\n",
       "      <td>0</td>\n",
       "      <td>0.0</td>\n",
       "      <td>0</td>\n",
       "      <td>0.0</td>\n",
       "      <td>0</td>\n",
       "      <td>0.0</td>\n",
       "      <td>1</td>\n",
       "      <td>23400.0</td>\n",
       "      <td>0</td>\n",
       "      <td>0.0</td>\n",
       "      <td>0</td>\n",
       "      <td>0.0</td>\n",
       "      <td>0</td>\n",
       "      <td>0.0</td>\n",
       "      <td>Insurance</td>\n",
       "    </tr>\n",
       "  </tbody>\n",
       "</table>\n",
       "</div>"
      ],
      "text/plain": [
       "   CustomerID  PersonalLoan_Owned  PersonalLoan_Amount  HomeLoan_Owned  \\\n",
       "0           1                   0                  0.0               0   \n",
       "1           2                   0                  0.0               0   \n",
       "2           3                   0                  0.0               0   \n",
       "3           4                   0                  0.0               0   \n",
       "4           5                   0                  0.0               0   \n",
       "\n",
       "   HomeLoan_Amount  VehicleLoan_Owned  VehicleLoan_Amount  \\\n",
       "0              0.0                  1            129300.0   \n",
       "1              0.0                  0                 0.0   \n",
       "2              0.0                  1           1676000.0   \n",
       "3              0.0                  1            332000.0   \n",
       "4              0.0                  0                 0.0   \n",
       "\n",
       "   EducationLoan_Owned  EducationLoan_Amount  Insurance_Owned  \\\n",
       "0                    0                   0.0                0   \n",
       "1                    1              189000.0                0   \n",
       "2                    0                   0.0                0   \n",
       "3                    0                   0.0                0   \n",
       "4                    0                   0.0                1   \n",
       "\n",
       "   Insurance_Amount  VehicleInsurance_Owned  VehicleInsurance_Amount  \\\n",
       "0               0.0                       0                      0.0   \n",
       "1               0.0                       0                      0.0   \n",
       "2               0.0                       0                      0.0   \n",
       "3               0.0                       1                  35500.0   \n",
       "4           23400.0                       0                      0.0   \n",
       "\n",
       "   MutualFund_Owned  MutualFund_Amount  FixedDeposit_Owned  \\\n",
       "0                 0                0.0                   1   \n",
       "1                 0                0.0                   1   \n",
       "2                 0                0.0                   1   \n",
       "3                 0                0.0                   0   \n",
       "4                 0                0.0                   0   \n",
       "\n",
       "   FixedDeposit_Amount LastProductPurchased  \n",
       "0             149200.0          VehicleLoan  \n",
       "1             230800.0        EducationLoan  \n",
       "2             182100.0          VehicleLoan  \n",
       "3                  0.0     VehicleInsurance  \n",
       "4                  0.0            Insurance  "
      ]
     },
     "execution_count": 11,
     "metadata": {},
     "output_type": "execute_result"
    }
   ],
   "source": [
    "productdf.head()"
   ]
  },
  {
   "cell_type": "code",
   "execution_count": 12,
   "metadata": {},
   "outputs": [
    {
     "name": "stdout",
     "output_type": "stream",
     "text": [
      "<class 'pandas.core.frame.DataFrame'>\n",
      "RangeIndex: 10000 entries, 0 to 9999\n",
      "Data columns (total 18 columns):\n",
      " #   Column                   Non-Null Count  Dtype  \n",
      "---  ------                   --------------  -----  \n",
      " 0   CustomerID               10000 non-null  int64  \n",
      " 1   PersonalLoan_Owned       10000 non-null  int64  \n",
      " 2   PersonalLoan_Amount      10000 non-null  float64\n",
      " 3   HomeLoan_Owned           10000 non-null  int64  \n",
      " 4   HomeLoan_Amount          10000 non-null  float64\n",
      " 5   VehicleLoan_Owned        10000 non-null  int64  \n",
      " 6   VehicleLoan_Amount       10000 non-null  float64\n",
      " 7   EducationLoan_Owned      10000 non-null  int64  \n",
      " 8   EducationLoan_Amount     10000 non-null  float64\n",
      " 9   Insurance_Owned          10000 non-null  int64  \n",
      " 10  Insurance_Amount         10000 non-null  float64\n",
      " 11  VehicleInsurance_Owned   10000 non-null  int64  \n",
      " 12  VehicleInsurance_Amount  10000 non-null  float64\n",
      " 13  MutualFund_Owned         10000 non-null  int64  \n",
      " 14  MutualFund_Amount        10000 non-null  float64\n",
      " 15  FixedDeposit_Owned       10000 non-null  int64  \n",
      " 16  FixedDeposit_Amount      10000 non-null  float64\n",
      " 17  LastProductPurchased     10000 non-null  object \n",
      "dtypes: float64(8), int64(9), object(1)\n",
      "memory usage: 1.4+ MB\n"
     ]
    }
   ],
   "source": [
    "productdf.info()"
   ]
  },
  {
   "cell_type": "code",
   "execution_count": null,
   "metadata": {},
   "outputs": [],
   "source": []
  },
  {
   "cell_type": "markdown",
   "metadata": {},
   "source": [
    "# Modelling"
   ]
  },
  {
   "cell_type": "code",
   "execution_count": 24,
   "metadata": {},
   "outputs": [],
   "source": [
    "import pandas as pd\n",
    "import numpy as np\n",
    "from sklearn.preprocessing import OneHotEncoder\n",
    "from sklearn.model_selection import train_test_split"
   ]
  },
  {
   "cell_type": "code",
   "execution_count": 25,
   "metadata": {},
   "outputs": [],
   "source": [
    "customer_info = pd.read_csv('CustomerInfo.csv')\n",
    "product_info = pd.read_csv('ProductInfo.csv')"
   ]
  },
  {
   "cell_type": "code",
   "execution_count": 26,
   "metadata": {},
   "outputs": [],
   "source": [
    "df = pd.merge(customer_info, product_info, on='CustomerID')"
   ]
  },
  {
   "cell_type": "code",
   "execution_count": 31,
   "metadata": {},
   "outputs": [],
   "source": [
    "# Encode categorical variables\n",
    "categorical_cols = ['Gender', 'Location', 'HighestEducation', 'Profession', 'LastProductPurchased']\n",
    "encoder = OneHotEncoder(sparse_output=False, handle_unknown='ignore')\n",
    "encoded_cats = encoder.fit_transform(df[categorical_cols])"
   ]
  },
  {
   "cell_type": "code",
   "execution_count": 32,
   "metadata": {},
   "outputs": [],
   "source": [
    "# get_feature_names_out() \n",
    "encoded_feature_names = encoder.get_feature_names_out(categorical_cols)\n",
    "encoded_df = pd.DataFrame(encoded_cats, columns=encoded_feature_names)"
   ]
  },
  {
   "cell_type": "code",
   "execution_count": 33,
   "metadata": {},
   "outputs": [],
   "source": [
    "# Combine encoded categories with numerical features\n",
    "numerical_cols = ['Age', 'Income', 'CreditScore', 'DisposableIncome']\n",
    "features_df = pd.concat([df[numerical_cols], encoded_df], axis=1)\n"
   ]
  },
  {
   "cell_type": "code",
   "execution_count": 34,
   "metadata": {},
   "outputs": [],
   "source": [
    "# Prepare the target variable (product ownership)\n",
    "product_cols = [col for col in df.columns if col.endswith('_Owned')]\n",
    "target_df = df[product_cols]\n"
   ]
  },
  {
   "cell_type": "code",
   "execution_count": 35,
   "metadata": {},
   "outputs": [],
   "source": [
    "# Split the data\n",
    "X_train, X_test, y_train, y_test = train_test_split(features_df, target_df, test_size=0.2, random_state=42)"
   ]
  },
  {
   "cell_type": "code",
   "execution_count": 37,
   "metadata": {},
   "outputs": [],
   "source": [
    "import numpy as np\n",
    "from scipy.sparse.linalg import svds\n",
    "\n",
    "def collaborative_filtering(user_item_matrix):\n",
    "    # Convert the matrix to float type\n",
    "    user_item_matrix = user_item_matrix.astype(float)\n",
    "    \n",
    "    # Center the matrix (subtract mean of each user's ratings)\n",
    "    user_ratings_mean = np.mean(user_item_matrix, axis=1)\n",
    "    user_item_matrix_centered = user_item_matrix - user_ratings_mean.reshape(-1, 1)\n",
    "    \n",
    "    # Perform SVD\n",
    "    U, sigma, Vt = svds(user_item_matrix_centered, k=min(user_item_matrix.shape[1]-1, 10))\n",
    "    \n",
    "    # Reconstruct the matrix\n",
    "    sigma_diag = np.diag(sigma)\n",
    "    predicted_ratings = np.dot(np.dot(U, sigma_diag), Vt) + user_ratings_mean.reshape(-1, 1)\n",
    "    \n",
    "    return predicted_ratings\n",
    "\n",
    "# Create user-item matrix\n",
    "user_item_matrix = y_train.values\n",
    "\n",
    "# Apply collaborative filtering\n",
    "cf_predictions = collaborative_filtering(user_item_matrix)"
   ]
  },
  {
   "cell_type": "code",
   "execution_count": 38,
   "metadata": {},
   "outputs": [],
   "source": [
    "from sklearn.metrics.pairwise import cosine_similarity\n",
    "\n",
    "def content_based_filtering(user_features):\n",
    "    # Compute cosine similarity between users\n",
    "    sim_matrix = cosine_similarity(user_features)\n",
    "    \n",
    "    return sim_matrix\n",
    "\n",
    "# Apply content-based filtering\n",
    "cb_similarities = content_based_filtering(X_train)"
   ]
  },
  {
   "cell_type": "code",
   "execution_count": 39,
   "metadata": {},
   "outputs": [],
   "source": [
    "def hybrid_recommendations(cf_pred, cb_sim, user_idx, user_item_matrix, n_recommendations=5):\n",
    "    # Get collaborative filtering predictions for the user\n",
    "    cf_user_pred = cf_pred[user_idx]\n",
    "    \n",
    "    # Get content-based similarities for the user\n",
    "    cb_user_sim = cb_sim[user_idx]\n",
    "    \n",
    "    # Combine predictions (you can adjust the weights)\n",
    "    hybrid_pred = 0.7 * cf_user_pred + 0.3 * np.dot(cb_user_sim, user_item_matrix)\n",
    "    \n",
    "    # Get products the user doesn't already own\n",
    "    unowned_products = np.where(user_item_matrix[user_idx] == 0)[0]\n",
    "    \n",
    "    # Get top N recommendations from unowned products\n",
    "    top_n = unowned_products[np.argsort(hybrid_pred[unowned_products])[::-1][:n_recommendations]]\n",
    "    \n",
    "    return top_n\n",
    "\n",
    "# Example usage\n",
    "user_idx = 0  # For the first user\n",
    "recommendations = hybrid_recommendations(cf_predictions, cb_similarities, user_idx, user_item_matrix)"
   ]
  },
  {
   "cell_type": "code",
   "execution_count": 40,
   "metadata": {},
   "outputs": [
    {
     "name": "stdout",
     "output_type": "stream",
     "text": [
      "Precision: 0.2433\n",
      "Recall: 0.7605\n"
     ]
    }
   ],
   "source": [
    "from sklearn.metrics import precision_score, recall_score\n",
    "\n",
    "def evaluate_model(y_true, y_pred):\n",
    "    precision = precision_score(y_true, y_pred, average='weighted')\n",
    "    recall = recall_score(y_true, y_pred, average='weighted')\n",
    "    \n",
    "    return precision, recall\n",
    "\n",
    "# Make predictions for all users in the test set\n",
    "all_predictions = []\n",
    "for user_idx in range(len(X_test)):\n",
    "    recommendations = hybrid_recommendations(cf_predictions, cb_similarities, user_idx, user_item_matrix, n_recommendations=len(product_cols))\n",
    "    user_pred = np.zeros(y_test.shape[1])\n",
    "    user_pred[recommendations] = 1\n",
    "    all_predictions.append(user_pred)\n",
    "\n",
    "all_predictions = np.array(all_predictions)\n",
    "\n",
    "# Evaluate the model\n",
    "precision, recall = evaluate_model(y_test, all_predictions)\n",
    "print(f\"Precision: {precision:.4f}\")\n",
    "print(f\"Recall: {recall:.4f}\")"
   ]
  },
  {
   "cell_type": "code",
   "execution_count": 41,
   "metadata": {},
   "outputs": [
    {
     "name": "stdout",
     "output_type": "stream",
     "text": [
      "Recommended products for user 1001: ['FixedDeposit_Owned', 'PersonalLoan_Owned', 'MutualFund_Owned', 'VehicleLoan_Owned', 'EducationLoan_Owned']\n"
     ]
    }
   ],
   "source": [
    "def make_recommendations(user_id, n_recommendations=5):\n",
    "    user_idx = customer_info[customer_info['CustomerID'] == user_id].index[0]\n",
    "    recommendations = hybrid_recommendations(cf_predictions, cb_similarities, user_idx, user_item_matrix, n_recommendations)\n",
    "    \n",
    "    recommended_products = [product_cols[i] for i in recommendations]\n",
    "    return recommended_products\n",
    "\n",
    "# Example usage\n",
    "user_id = 1001  # Replace with an actual user ID\n",
    "recommended_products = make_recommendations(user_id)\n",
    "print(f\"Recommended products for user {user_id}: {recommended_products}\")"
   ]
  },
  {
   "cell_type": "code",
   "execution_count": null,
   "metadata": {},
   "outputs": [],
   "source": []
  },
  {
   "cell_type": "markdown",
   "metadata": {},
   "source": []
  }
 ],
 "metadata": {
  "kernelspec": {
   "display_name": "Python 3",
   "language": "python",
   "name": "python3"
  },
  "language_info": {
   "codemirror_mode": {
    "name": "ipython",
    "version": 3
   },
   "file_extension": ".py",
   "mimetype": "text/x-python",
   "name": "python",
   "nbconvert_exporter": "python",
   "pygments_lexer": "ipython3",
   "version": "3.11.9"
  }
 },
 "nbformat": 4,
 "nbformat_minor": 2
}
